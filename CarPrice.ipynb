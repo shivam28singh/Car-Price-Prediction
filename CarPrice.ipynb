{
 "cells": [
  {
   "cell_type": "markdown",
   "id": "a0a1d8cf",
   "metadata": {},
   "source": [
    "# Car Price Prediction: EDA and Preprocessing"
   ]
  },
  {
   "cell_type": "code",
   "execution_count": 1,
   "id": "83d82200",
   "metadata": {
    "execution": {
     "iopub.execute_input": "2025-05-31T13:35:50.363288Z",
     "iopub.status.busy": "2025-05-31T13:35:50.362963Z",
     "iopub.status.idle": "2025-05-31T13:35:52.173759Z",
     "shell.execute_reply": "2025-05-31T13:35:52.172601Z"
    }
   },
   "outputs": [],
   "source": [
    "import pandas as pd\n",
    "import numpy as np\n",
    "import matplotlib.pyplot as plt\n",
    "import seaborn as sns\n",
    "import datetime\n",
    "\n",
    "from sklearn.model_selection import train_test_split\n",
    "from sklearn.preprocessing import StandardScaler, OneHotEncoder, OrdinalEncoder, FunctionTransformer\n",
    "from sklearn.compose import ColumnTransformer\n",
    "from sklearn.pipeline import Pipeline\n",
    "from sklearn.linear_model import LinearRegression\n",
    "from sklearn.ensemble import RandomForestRegressor, GradientBoostingRegressor\n",
    "from sklearn.metrics import mean_squared_error, r2_score\n",
    "\n",
    "# Set plot style\n",
    "sns.set_style('whitegrid')"
   ]
  },
  {
   "cell_type": "markdown",
   "id": "5933d1b7",
   "metadata": {},
   "source": [
    "## 1. Load Data"
   ]
  },
  {
   "cell_type": "code",
   "execution_count": 2,
   "id": "56388572",
   "metadata": {
    "execution": {
     "iopub.execute_input": "2025-05-31T13:35:52.177973Z",
     "iopub.status.busy": "2025-05-31T13:35:52.177508Z",
     "iopub.status.idle": "2025-05-31T13:35:52.210824Z",
     "shell.execute_reply": "2025-05-31T13:35:52.209645Z"
    }
   },
   "outputs": [
    {
     "data": {
      "text/html": [
       "<div>\n",
       "<style scoped>\n",
       "    .dataframe tbody tr th:only-of-type {\n",
       "        vertical-align: middle;\n",
       "    }\n",
       "\n",
       "    .dataframe tbody tr th {\n",
       "        vertical-align: top;\n",
       "    }\n",
       "\n",
       "    .dataframe thead th {\n",
       "        text-align: right;\n",
       "    }\n",
       "</style>\n",
       "<table border=\"1\" class=\"dataframe\">\n",
       "  <thead>\n",
       "    <tr style=\"text-align: right;\">\n",
       "      <th></th>\n",
       "      <th>name</th>\n",
       "      <th>year</th>\n",
       "      <th>selling_price</th>\n",
       "      <th>km_driven</th>\n",
       "      <th>fuel</th>\n",
       "      <th>seller_type</th>\n",
       "      <th>transmission</th>\n",
       "      <th>owner</th>\n",
       "    </tr>\n",
       "  </thead>\n",
       "  <tbody>\n",
       "    <tr>\n",
       "      <th>0</th>\n",
       "      <td>Maruti 800 AC</td>\n",
       "      <td>2007</td>\n",
       "      <td>60000</td>\n",
       "      <td>70000</td>\n",
       "      <td>Petrol</td>\n",
       "      <td>Individual</td>\n",
       "      <td>Manual</td>\n",
       "      <td>First Owner</td>\n",
       "    </tr>\n",
       "    <tr>\n",
       "      <th>1</th>\n",
       "      <td>Maruti Wagon R LXI Minor</td>\n",
       "      <td>2007</td>\n",
       "      <td>135000</td>\n",
       "      <td>50000</td>\n",
       "      <td>Petrol</td>\n",
       "      <td>Individual</td>\n",
       "      <td>Manual</td>\n",
       "      <td>First Owner</td>\n",
       "    </tr>\n",
       "    <tr>\n",
       "      <th>2</th>\n",
       "      <td>Hyundai Verna 1.6 SX</td>\n",
       "      <td>2012</td>\n",
       "      <td>600000</td>\n",
       "      <td>100000</td>\n",
       "      <td>Diesel</td>\n",
       "      <td>Individual</td>\n",
       "      <td>Manual</td>\n",
       "      <td>First Owner</td>\n",
       "    </tr>\n",
       "    <tr>\n",
       "      <th>3</th>\n",
       "      <td>Datsun RediGO T Option</td>\n",
       "      <td>2017</td>\n",
       "      <td>250000</td>\n",
       "      <td>46000</td>\n",
       "      <td>Petrol</td>\n",
       "      <td>Individual</td>\n",
       "      <td>Manual</td>\n",
       "      <td>First Owner</td>\n",
       "    </tr>\n",
       "    <tr>\n",
       "      <th>4</th>\n",
       "      <td>Honda Amaze VX i-DTEC</td>\n",
       "      <td>2014</td>\n",
       "      <td>450000</td>\n",
       "      <td>141000</td>\n",
       "      <td>Diesel</td>\n",
       "      <td>Individual</td>\n",
       "      <td>Manual</td>\n",
       "      <td>Second Owner</td>\n",
       "    </tr>\n",
       "  </tbody>\n",
       "</table>\n",
       "</div>"
      ],
      "text/plain": [
       "                       name  year  selling_price  km_driven    fuel  \\\n",
       "0             Maruti 800 AC  2007          60000      70000  Petrol   \n",
       "1  Maruti Wagon R LXI Minor  2007         135000      50000  Petrol   \n",
       "2      Hyundai Verna 1.6 SX  2012         600000     100000  Diesel   \n",
       "3    Datsun RediGO T Option  2017         250000      46000  Petrol   \n",
       "4     Honda Amaze VX i-DTEC  2014         450000     141000  Diesel   \n",
       "\n",
       "  seller_type transmission         owner  \n",
       "0  Individual       Manual   First Owner  \n",
       "1  Individual       Manual   First Owner  \n",
       "2  Individual       Manual   First Owner  \n",
       "3  Individual       Manual   First Owner  \n",
       "4  Individual       Manual  Second Owner  "
      ]
     },
     "execution_count": 2,
     "metadata": {},
     "output_type": "execute_result"
    }
   ],
   "source": [
    "df = pd.read_csv('CAR DETAILS FROM CAR DEKHO.csv')\n",
    "df.head()"
   ]
  },
  {
   "cell_type": "markdown",
   "id": "bfc899ac",
   "metadata": {},
   "source": [
    "## EDA Summary (from previous steps - output hidden for brevity in this section)"
   ]
  },
  {
   "cell_type": "markdown",
   "id": "6a3717d5",
   "metadata": {},
   "source": [
    "The previous EDA steps involved:\n",
    "- Target variable analysis (`selling_price`): Skewed, log transformation is beneficial.\n",
    "- Missing value check: No missing values.\n",
    "- Categorical feature analysis: `name` has high cardinality.\n",
    "- Numerical feature analysis: `year`, `km_driven` (skewed).\n",
    "- Feature engineering: `car_age` (skewed).\n",
    "- Relationship visualization: Scatter and box plots confirmed expected relationships.\n",
    "- Outlier check: Identified in `selling_price`, `km_driven`, `car_age`."
   ]
  },
  {
   "cell_type": "markdown",
   "id": "1ad9c4e6",
   "metadata": {},
   "source": [
    "## 2. Feature Engineering (`car_age`, `brand`)"
   ]
  },
  {
   "cell_type": "code",
   "execution_count": 3,
   "id": "eed4a974",
   "metadata": {
    "execution": {
     "iopub.execute_input": "2025-05-31T13:35:52.214438Z",
     "iopub.status.busy": "2025-05-31T13:35:52.214060Z",
     "iopub.status.idle": "2025-05-31T13:35:52.233463Z",
     "shell.execute_reply": "2025-05-31T13:35:52.232359Z"
    }
   },
   "outputs": [
    {
     "data": {
      "text/html": [
       "<div>\n",
       "<style scoped>\n",
       "    .dataframe tbody tr th:only-of-type {\n",
       "        vertical-align: middle;\n",
       "    }\n",
       "\n",
       "    .dataframe tbody tr th {\n",
       "        vertical-align: top;\n",
       "    }\n",
       "\n",
       "    .dataframe thead th {\n",
       "        text-align: right;\n",
       "    }\n",
       "</style>\n",
       "<table border=\"1\" class=\"dataframe\">\n",
       "  <thead>\n",
       "    <tr style=\"text-align: right;\">\n",
       "      <th></th>\n",
       "      <th>selling_price</th>\n",
       "      <th>km_driven</th>\n",
       "      <th>fuel</th>\n",
       "      <th>seller_type</th>\n",
       "      <th>transmission</th>\n",
       "      <th>owner</th>\n",
       "      <th>car_age</th>\n",
       "      <th>brand</th>\n",
       "    </tr>\n",
       "  </thead>\n",
       "  <tbody>\n",
       "    <tr>\n",
       "      <th>0</th>\n",
       "      <td>60000</td>\n",
       "      <td>70000</td>\n",
       "      <td>Petrol</td>\n",
       "      <td>Individual</td>\n",
       "      <td>Manual</td>\n",
       "      <td>First Owner</td>\n",
       "      <td>17</td>\n",
       "      <td>Maruti</td>\n",
       "    </tr>\n",
       "    <tr>\n",
       "      <th>1</th>\n",
       "      <td>135000</td>\n",
       "      <td>50000</td>\n",
       "      <td>Petrol</td>\n",
       "      <td>Individual</td>\n",
       "      <td>Manual</td>\n",
       "      <td>First Owner</td>\n",
       "      <td>17</td>\n",
       "      <td>Maruti</td>\n",
       "    </tr>\n",
       "    <tr>\n",
       "      <th>2</th>\n",
       "      <td>600000</td>\n",
       "      <td>100000</td>\n",
       "      <td>Diesel</td>\n",
       "      <td>Individual</td>\n",
       "      <td>Manual</td>\n",
       "      <td>First Owner</td>\n",
       "      <td>12</td>\n",
       "      <td>Hyundai</td>\n",
       "    </tr>\n",
       "    <tr>\n",
       "      <th>3</th>\n",
       "      <td>250000</td>\n",
       "      <td>46000</td>\n",
       "      <td>Petrol</td>\n",
       "      <td>Individual</td>\n",
       "      <td>Manual</td>\n",
       "      <td>First Owner</td>\n",
       "      <td>7</td>\n",
       "      <td>Datsun</td>\n",
       "    </tr>\n",
       "    <tr>\n",
       "      <th>4</th>\n",
       "      <td>450000</td>\n",
       "      <td>141000</td>\n",
       "      <td>Diesel</td>\n",
       "      <td>Individual</td>\n",
       "      <td>Manual</td>\n",
       "      <td>Second Owner</td>\n",
       "      <td>10</td>\n",
       "      <td>Honda</td>\n",
       "    </tr>\n",
       "  </tbody>\n",
       "</table>\n",
       "</div>"
      ],
      "text/plain": [
       "   selling_price  km_driven    fuel seller_type transmission         owner  \\\n",
       "0          60000      70000  Petrol  Individual       Manual   First Owner   \n",
       "1         135000      50000  Petrol  Individual       Manual   First Owner   \n",
       "2         600000     100000  Diesel  Individual       Manual   First Owner   \n",
       "3         250000      46000  Petrol  Individual       Manual   First Owner   \n",
       "4         450000     141000  Diesel  Individual       Manual  Second Owner   \n",
       "\n",
       "   car_age    brand  \n",
       "0       17   Maruti  \n",
       "1       17   Maruti  \n",
       "2       12  Hyundai  \n",
       "3        7   Datsun  \n",
       "4       10    Honda  "
      ]
     },
     "execution_count": 3,
     "metadata": {},
     "output_type": "execute_result"
    }
   ],
   "source": [
    "current_year = 2024 \n",
    "df['car_age'] = current_year - df['year']\n",
    "\n",
    "df['brand'] = df['name'].apply(lambda x: x.split(' ')[0])\n",
    "\n",
    "df_processed = df.drop(['name', 'year'], axis=1)\n",
    "df_processed.head()"
   ]
  },
  {
   "cell_type": "markdown",
   "id": "e83b741d",
   "metadata": {},
   "source": [
    "## 3. Log Transform Target (and visualize effect on numericals for EDA)"
   ]
  },
  {
   "cell_type": "code",
   "execution_count": 4,
   "id": "ef94d622",
   "metadata": {
    "execution": {
     "iopub.execute_input": "2025-05-31T13:35:52.237215Z",
     "iopub.status.busy": "2025-05-31T13:35:52.236837Z",
     "iopub.status.idle": "2025-05-31T13:35:54.592072Z",
     "shell.execute_reply": "2025-05-31T13:35:54.590892Z"
    }
   },
   "outputs": [
    {
     "data": {
      "image/png": "[encoded data removed]",
      "text/plain": [
       "<Figure size 1200x1200 with 6 Axes>"
      ]
     },
     "metadata": {},
     "output_type": "display_data"
    },
    {
     "data": {
      "text/html": [
       "<div>\n",
       "<style scoped>\n",
       "    .dataframe tbody tr th:only-of-type {\n",
       "        vertical-align: middle;\n",
       "    }\n",
       "\n",
       "    .dataframe tbody tr th {\n",
       "        vertical-align: top;\n",
       "    }\n",
       "\n",
       "    .dataframe thead th {\n",
       "        text-align: right;\n",
       "    }\n",
       "</style>\n",
       "<table border=\"1\" class=\"dataframe\">\n",
       "  <thead>\n",
       "    <tr style=\"text-align: right;\">\n",
       "      <th></th>\n",
       "      <th>selling_price</th>\n",
       "      <th>km_driven</th>\n",
       "      <th>fuel</th>\n",
       "      <th>seller_type</th>\n",
       "      <th>transmission</th>\n",
       "      <th>owner</th>\n",
       "      <th>car_age</th>\n",
       "      <th>brand</th>\n",
       "      <th>selling_price_log</th>\n",
       "    </tr>\n",
       "  </thead>\n",
       "  <tbody>\n",
       "    <tr>\n",
       "      <th>0</th>\n",
       "      <td>60000</td>\n",
       "      <td>70000</td>\n",
       "      <td>Petrol</td>\n",
       "      <td>Individual</td>\n",
       "      <td>Manual</td>\n",
       "      <td>First Owner</td>\n",
       "      <td>17</td>\n",
       "      <td>Maruti</td>\n",
       "      <td>11.002117</td>\n",
       "    </tr>\n",
       "    <tr>\n",
       "      <th>1</th>\n",
       "      <td>135000</td>\n",
       "      <td>50000</td>\n",
       "      <td>Petrol</td>\n",
       "      <td>Individual</td>\n",
       "      <td>Manual</td>\n",
       "      <td>First Owner</td>\n",
       "      <td>17</td>\n",
       "      <td>Maruti</td>\n",
       "      <td>11.813037</td>\n",
       "    </tr>\n",
       "    <tr>\n",
       "      <th>2</th>\n",
       "      <td>600000</td>\n",
       "      <td>100000</td>\n",
       "      <td>Diesel</td>\n",
       "      <td>Individual</td>\n",
       "      <td>Manual</td>\n",
       "      <td>First Owner</td>\n",
       "      <td>12</td>\n",
       "      <td>Hyundai</td>\n",
       "      <td>13.304687</td>\n",
       "    </tr>\n",
       "    <tr>\n",
       "      <th>3</th>\n",
       "      <td>250000</td>\n",
       "      <td>46000</td>\n",
       "      <td>Petrol</td>\n",
       "      <td>Individual</td>\n",
       "      <td>Manual</td>\n",
       "      <td>First Owner</td>\n",
       "      <td>7</td>\n",
       "      <td>Datsun</td>\n",
       "      <td>12.429220</td>\n",
       "    </tr>\n",
       "    <tr>\n",
       "      <th>4</th>\n",
       "      <td>450000</td>\n",
       "      <td>141000</td>\n",
       "      <td>Diesel</td>\n",
       "      <td>Individual</td>\n",
       "      <td>Manual</td>\n",
       "      <td>Second Owner</td>\n",
       "      <td>10</td>\n",
       "      <td>Honda</td>\n",
       "      <td>13.017005</td>\n",
       "    </tr>\n",
       "  </tbody>\n",
       "</table>\n",
       "</div>"
      ],
      "text/plain": [
       "   selling_price  km_driven    fuel seller_type transmission         owner  \\\n",
       "0          60000      70000  Petrol  Individual       Manual   First Owner   \n",
       "1         135000      50000  Petrol  Individual       Manual   First Owner   \n",
       "2         600000     100000  Diesel  Individual       Manual   First Owner   \n",
       "3         250000      46000  Petrol  Individual       Manual   First Owner   \n",
       "4         450000     141000  Diesel  Individual       Manual  Second Owner   \n",
       "\n",
       "   car_age    brand  selling_price_log  \n",
       "0       17   Maruti          11.002117  \n",
       "1       17   Maruti          11.813037  \n",
       "2       12  Hyundai          13.304687  \n",
       "3        7   Datsun          12.429220  \n",
       "4       10    Honda          13.017005  "
      ]
     },
     "execution_count": 4,
     "metadata": {},
     "output_type": "execute_result"
    }
   ],
   "source": [
    "# Log transform target for modeling\n",
    "df_processed['selling_price_log'] = np.log1p(df_processed['selling_price'])\n",
    "\n",
    "# For EDA purposes, let's see the distributions of log-transformed km_driven and car_age\n",
    "df_processed['km_driven_log_eda'] = np.log1p(df_processed['km_driven'])\n",
    "df_processed['car_age_log_eda'] = np.log1p(df_processed['car_age'])\n",
    "\n",
    "fig, axes = plt.subplots(3, 2, figsize=(12, 12))\n",
    "sns.histplot(df_processed['km_driven'], ax=axes[0,0], kde=True).set_title('km_driven (Original)')\n",
    "sns.histplot(df_processed['km_driven_log_eda'], ax=axes[0,1], kde=True).set_title('km_driven_log (EDA)')\n",
    "sns.histplot(df_processed['car_age'], ax=axes[1,0], kde=True).set_title('car_age (Original)')\n",
    "sns.histplot(df_processed['car_age_log_eda'], ax=axes[1,1], kde=True).set_title('car_age_log (EDA)')\n",
    "sns.histplot(df_processed['selling_price'], ax=axes[2,0], kde=True).set_title('selling_price (Original)')\n",
    "sns.histplot(df_processed['selling_price_log'], ax=axes[2,1], kde=True).set_title('selling_price_log (Target)')\n",
    "plt.tight_layout()\n",
    "plt.show()\n",
    "\n",
    "# Drop the EDA log columns as actual transformation will be in pipeline\n",
    "df_processed = df_processed.drop(['km_driven_log_eda', 'car_age_log_eda'], axis=1)\n",
    "df_processed.head()"
   ]
  },
  {
   "cell_type": "markdown",
   "id": "90e8d432",
   "metadata": {},
   "source": [
    "Log transformation has made the distributions of `km_driven`, `car_age`, and `selling_price` more symmetrical."
   ]
  },
  {
   "cell_type": "markdown",
   "id": "31ac4dfa",
   "metadata": {},
   "source": [
    "## 4. Define Preprocessing Steps for ColumnTransformer"
   ]
  },
  {
   "cell_type": "code",
   "execution_count": 5,
   "id": "eb742b27",
   "metadata": {
    "execution": {
     "iopub.execute_input": "2025-05-31T13:35:54.595815Z",
     "iopub.status.busy": "2025-05-31T13:35:54.595471Z",
     "iopub.status.idle": "2025-05-31T13:35:54.603141Z",
     "shell.execute_reply": "2025-05-31T13:35:54.601947Z"
    }
   },
   "outputs": [],
   "source": [
    "# Define features for each transformation type\n",
    "numerical_features = ['km_driven', 'car_age'] # Original features to be log-transformed then scaled\n",
    "onehot_features = ['brand', 'fuel', 'seller_type', 'transmission']\n",
    "ordinal_features = ['owner']\n",
    "\n",
    "# Define order for OrdinalEncoder\n",
    "owner_order = ['Test Drive Car', 'First Owner', 'Second Owner', 'Third Owner', 'Fourth & Above Owner']\n",
    "\n",
    "# Create pipelines for transformers\n",
    "numerical_pipeline = Pipeline(steps=[\n",
    "    ('log_transform', FunctionTransformer(np.log1p, validate=False)), # Apply log1p\n",
    "    ('scaler', StandardScaler()) # Then scale\n",
    "])\n",
    "\n",
    "onehot_pipeline = Pipeline(steps=[\n",
    "    ('onehot', OneHotEncoder(handle_unknown='ignore', drop='first', sparse_output=False))\n",
    "])\n",
    "\n",
    "ordinal_pipeline = Pipeline(steps=[\n",
    "    ('ordinal', OrdinalEncoder(categories=[owner_order]))\n",
    "])\n",
    "\n",
    "# Create ColumnTransformer\n",
    "preprocessor = ColumnTransformer(\n",
    "    transformers=[\n",
    "        ('num', numerical_pipeline, numerical_features),\n",
    "        ('cat_onehot', onehot_pipeline, onehot_features),\n",
    "        ('cat_ordinal', ordinal_pipeline, ordinal_features)\n",
    "    ],\n",
    "    remainder='drop' # Drop other columns (like original selling_price)\n",
    ")"
   ]
  },
  {
   "cell_type": "markdown",
   "id": "b3b63dde",
   "metadata": {},
   "source": [
    "## 5. Model Training and Evaluation"
   ]
  },
  {
   "cell_type": "code",
   "execution_count": 6,
   "id": "b253358a",
   "metadata": {
    "execution": {
     "iopub.execute_input": "2025-05-31T13:35:54.606873Z",
     "iopub.status.busy": "2025-05-31T13:35:54.606464Z",
     "iopub.status.idle": "2025-05-31T13:35:54.626777Z",
     "shell.execute_reply": "2025-05-31T13:35:54.625500Z"
    }
   },
   "outputs": [
    {
     "name": "stdout",
     "output_type": "stream",
     "text": [
      "X_train columns before preprocessing: ['km_driven', 'fuel', 'seller_type', 'transmission', 'owner', 'car_age', 'brand']\n"
     ]
    },
    {
     "data": {
      "text/html": [
       "<div>\n",
       "<style scoped>\n",
       "    .dataframe tbody tr th:only-of-type {\n",
       "        vertical-align: middle;\n",
       "    }\n",
       "\n",
       "    .dataframe tbody tr th {\n",
       "        vertical-align: top;\n",
       "    }\n",
       "\n",
       "    .dataframe thead th {\n",
       "        text-align: right;\n",
       "    }\n",
       "</style>\n",
       "<table border=\"1\" class=\"dataframe\">\n",
       "  <thead>\n",
       "    <tr style=\"text-align: right;\">\n",
       "      <th></th>\n",
       "      <th>km_driven</th>\n",
       "      <th>fuel</th>\n",
       "      <th>seller_type</th>\n",
       "      <th>transmission</th>\n",
       "      <th>owner</th>\n",
       "      <th>car_age</th>\n",
       "      <th>brand</th>\n",
       "    </tr>\n",
       "  </thead>\n",
       "  <tbody>\n",
       "    <tr>\n",
       "      <th>227</th>\n",
       "      <td>20000</td>\n",
       "      <td>Diesel</td>\n",
       "      <td>Individual</td>\n",
       "      <td>Manual</td>\n",
       "      <td>First Owner</td>\n",
       "      <td>7</td>\n",
       "      <td>Mahindra</td>\n",
       "    </tr>\n",
       "    <tr>\n",
       "      <th>964</th>\n",
       "      <td>50000</td>\n",
       "      <td>Diesel</td>\n",
       "      <td>Individual</td>\n",
       "      <td>Manual</td>\n",
       "      <td>First Owner</td>\n",
       "      <td>6</td>\n",
       "      <td>Maruti</td>\n",
       "    </tr>\n",
       "  </tbody>\n",
       "</table>\n",
       "</div>"
      ],
      "text/plain": [
       "     km_driven    fuel seller_type transmission        owner  car_age  \\\n",
       "227      20000  Diesel  Individual       Manual  First Owner        7   \n",
       "964      50000  Diesel  Individual       Manual  First Owner        6   \n",
       "\n",
       "        brand  \n",
       "227  Mahindra  \n",
       "964    Maruti  "
      ]
     },
     "execution_count": 6,
     "metadata": {},
     "output_type": "execute_result"
    }
   ],
   "source": [
    "# Define X (features to be preprocessed) and y (target)\n",
    "X = df_processed.drop(['selling_price', 'selling_price_log'], axis=1)\n",
    "y_log = df_processed['selling_price_log'] # Log-transformed target for training\n",
    "y_original = df_processed['selling_price'] # Original target for final MSE calculation\n",
    "\n",
    "# Split the data\n",
    "X_train, X_test, y_train_log, y_test_log, y_train_original, y_test_original = train_test_split(\n",
    "    X, y_log, y_original, test_size=0.2, random_state=42\n",
    ")\n",
    "\n",
    "print(\"X_train columns before preprocessing:\", X_train.columns.tolist())\n",
    "X_train.head(2)"
   ]
  },
  {
   "cell_type": "markdown",
   "id": "3c75084c",
   "metadata": {},
   "source": [
    "### 5.1 Baseline Model: Linear Regression"
   ]
  },
  {
   "cell_type": "code",
   "execution_count": 7,
   "id": "0e354a83",
   "metadata": {
    "execution": {
     "iopub.execute_input": "2025-05-31T13:35:54.630204Z",
     "iopub.status.busy": "2025-05-31T13:35:54.629747Z",
     "iopub.status.idle": "2025-05-31T13:35:54.684755Z",
     "shell.execute_reply": "2025-05-31T13:35:54.684093Z"
    }
   },
   "outputs": [
    {
     "name": "stdout",
     "output_type": "stream",
     "text": [
      "--- Linear Regression Metrics ---\n",
      "MSE (Original Scale): 120044392864.87143\n",
      "RMSE (Original Scale): 346474.2311700416\n",
      "R-squared (Original Scale): 0.6066314502467307\n"
     ]
    },
    {
     "name": "stderr",
     "output_type": "stream",
     "text": [
      "/home/swebot/.local/lib/python3.10/site-packages/sklearn/preprocessing/_encoders.py:246: UserWarning: Found unknown categories in columns [0] during transform. These unknown categories will be encoded as all zeros\n",
      "  warnings.warn(\n"
     ]
    }
   ],
   "source": [
    "lr_pipeline = Pipeline(steps=[\n",
    "    ('preprocessor', preprocessor),\n",
    "    ('regressor', LinearRegression())\n",
    "])\n",
    "\n",
    "lr_pipeline.fit(X_train, y_train_log)\n",
    "y_predict_lr_log = lr_pipeline.predict(X_test)\n",
    "y_predict_lr_orig = np.expm1(y_predict_lr_log)\n",
    "y_predict_lr_orig[y_predict_lr_orig < 0] = 0 \n",
    "\n",
    "mse_lr = mean_squared_error(y_test_original, y_predict_lr_orig)\n",
    "rmse_lr = np.sqrt(mse_lr)\n",
    "r2_lr = r2_score(y_test_original, y_predict_lr_orig)\n",
    "\n",
    "print(\"--- Linear Regression Metrics ---\")\n",
    "print(f\"MSE (Original Scale): {mse_lr}\")\n",
    "print(f\"RMSE (Original Scale): {rmse_lr}\")\n",
    "print(f\"R-squared (Original Scale): {r2_lr}\")"
   ]
  },
  {
   "cell_type": "markdown",
   "id": "1d3ccc4d",
   "metadata": {},
   "source": [
    "### 5.2 RandomForestRegressor Experiment"
   ]
  },
  {
   "cell_type": "code",
   "execution_count": 8,
   "id": "71af788b",
   "metadata": {
    "execution": {
     "iopub.execute_input": "2025-05-31T13:35:54.688766Z",
     "iopub.status.busy": "2025-05-31T13:35:54.688478Z",
     "iopub.status.idle": "2025-05-31T13:35:55.980056Z",
     "shell.execute_reply": "2025-05-31T13:35:55.978816Z"
    }
   },
   "outputs": [
    {
     "name": "stdout",
     "output_type": "stream",
     "text": [
      "--- RandomForestRegressor Metrics ---\n",
      "MSE (Original Scale): 88051475070.66586\n",
      "RMSE (Original Scale): 296734.6880138314\n",
      "R-squared (Original Scale): 0.7114677310153675\n"
     ]
    },
    {
     "name": "stderr",
     "output_type": "stream",
     "text": [
      "/home/swebot/.local/lib/python3.10/site-packages/sklearn/preprocessing/_encoders.py:246: UserWarning: Found unknown categories in columns [0] during transform. These unknown categories will be encoded as all zeros\n",
      "  warnings.warn(\n"
     ]
    }
   ],
   "source": [
    "rf_pipeline = Pipeline(steps=[\n",
    "    ('preprocessor', preprocessor),\n",
    "    ('regressor', RandomForestRegressor(random_state=42, n_estimators=100))\n",
    "])\n",
    "\n",
    "rf_pipeline.fit(X_train, y_train_log)\n",
    "y_predict_rf_log = rf_pipeline.predict(X_test)\n",
    "y_predict_rf_orig = np.expm1(y_predict_rf_log)\n",
    "y_predict_rf_orig[y_predict_rf_orig < 0] = 0\n",
    "\n",
    "mse_rf = mean_squared_error(y_test_original, y_predict_rf_orig)\n",
    "rmse_rf = np.sqrt(mse_rf)\n",
    "r2_rf = r2_score(y_test_original, y_predict_rf_orig)\n",
    "\n",
    "print(\"--- RandomForestRegressor Metrics ---\")\n",
    "print(f\"MSE (Original Scale): {mse_rf}\")\n",
    "print(f\"RMSE (Original Scale): {rmse_rf}\")\n",
    "print(f\"R-squared (Original Scale): {r2_rf}\")"
   ]
  },
  {
   "cell_type": "markdown",
   "id": "942d12a2",
   "metadata": {},
   "source": [
    "### 5.3 GradientBoostingRegressor Experiment"
   ]
  },
  {
   "cell_type": "code",
   "execution_count": 9,
   "id": "59719397",
   "metadata": {
    "execution": {
     "iopub.execute_input": "2025-05-31T13:35:55.983641Z",
     "iopub.status.busy": "2025-05-31T13:35:55.983301Z",
     "iopub.status.idle": "2025-05-31T13:35:56.399296Z",
     "shell.execute_reply": "2025-05-31T13:35:56.398135Z"
    }
   },
   "outputs": [
    {
     "name": "stdout",
     "output_type": "stream",
     "text": [
      "--- GradientBoostingRegressor Metrics ---\n",
      "MSE (Original Scale): 108247344695.5558\n",
      "RMSE (Original Scale): 329009.6422531653\n",
      "R-squared (Original Scale): 0.645288713772207\n"
     ]
    },
    {
     "name": "stderr",
     "output_type": "stream",
     "text": [
      "/home/swebot/.local/lib/python3.10/site-packages/sklearn/preprocessing/_encoders.py:246: UserWarning: Found unknown categories in columns [0] during transform. These unknown categories will be encoded as all zeros\n",
      "  warnings.warn(\n"
     ]
    }
   ],
   "source": [
    "gb_pipeline = Pipeline(steps=[\n",
    "    ('preprocessor', preprocessor),\n",
    "    ('regressor', GradientBoostingRegressor(random_state=42))\n",
    "])\n",
    "\n",
    "gb_pipeline.fit(X_train, y_train_log)\n",
    "y_predict_gb_log = gb_pipeline.predict(X_test)\n",
    "y_predict_gb_orig = np.expm1(y_predict_gb_log)\n",
    "y_predict_gb_orig[y_predict_gb_orig < 0] = 0\n",
    "\n",
    "mse_gb = mean_squared_error(y_test_original, y_predict_gb_orig)\n",
    "rmse_gb = np.sqrt(mse_gb)\n",
    "r2_gb = r2_score(y_test_original, y_predict_gb_orig)\n",
    "\n",
    "print(\"--- GradientBoostingRegressor Metrics ---\")\n",
    "print(f\"MSE (Original Scale): {mse_gb}\")\n",
    "print(f\"RMSE (Original Scale): {rmse_gb}\")\n",
    "print(f\"R-squared (Original Scale): {r2_gb}\")"
   ]
  },
  {
   "cell_type": "markdown",
   "id": "f42bb778",
   "metadata": {},
   "source": [
    "## 6. Compare Models"
   ]
  },
  {
   "cell_type": "code",
   "execution_count": 10,
   "id": "22c42978",
   "metadata": {
    "execution": {
     "iopub.execute_input": "2025-05-31T13:35:56.402865Z",
     "iopub.status.busy": "2025-05-31T13:35:56.402439Z",
     "iopub.status.idle": "2025-05-31T13:35:56.415416Z",
     "shell.execute_reply": "2025-05-31T13:35:56.414397Z"
    }
   },
   "outputs": [
    {
     "name": "stdout",
     "output_type": "stream",
     "text": [
      "\n",
      "--- Model Comparison ---\n"
     ]
    },
    {
     "data": {
      "text/html": [
       "<div>\n",
       "<style scoped>\n",
       "    .dataframe tbody tr th:only-of-type {\n",
       "        vertical-align: middle;\n",
       "    }\n",
       "\n",
       "    .dataframe tbody tr th {\n",
       "        vertical-align: top;\n",
       "    }\n",
       "\n",
       "    .dataframe thead th {\n",
       "        text-align: right;\n",
       "    }\n",
       "</style>\n",
       "<table border=\"1\" class=\"dataframe\">\n",
       "  <thead>\n",
       "    <tr style=\"text-align: right;\">\n",
       "      <th></th>\n",
       "      <th>Model</th>\n",
       "      <th>MSE</th>\n",
       "      <th>RMSE</th>\n",
       "      <th>R-squared</th>\n",
       "    </tr>\n",
       "  </thead>\n",
       "  <tbody>\n",
       "    <tr>\n",
       "      <th>0</th>\n",
       "      <td>Linear Regression</td>\n",
       "      <td>1.200444e+11</td>\n",
       "      <td>346474.231170</td>\n",
       "      <td>0.606631</td>\n",
       "    </tr>\n",
       "    <tr>\n",
       "      <th>1</th>\n",
       "      <td>RandomForestRegressor</td>\n",
       "      <td>8.805148e+10</td>\n",
       "      <td>296734.688014</td>\n",
       "      <td>0.711468</td>\n",
       "    </tr>\n",
       "    <tr>\n",
       "      <th>2</th>\n",
       "      <td>GradientBoostingRegressor</td>\n",
       "      <td>1.082473e+11</td>\n",
       "      <td>329009.642253</td>\n",
       "      <td>0.645289</td>\n",
       "    </tr>\n",
       "  </tbody>\n",
       "</table>\n",
       "</div>"
      ],
      "text/plain": [
       "                       Model           MSE           RMSE  R-squared\n",
       "0          Linear Regression  1.200444e+11  346474.231170   0.606631\n",
       "1      RandomForestRegressor  8.805148e+10  296734.688014   0.711468\n",
       "2  GradientBoostingRegressor  1.082473e+11  329009.642253   0.645289"
      ]
     },
     "execution_count": 10,
     "metadata": {},
     "output_type": "execute_result"
    }
   ],
   "source": [
    "metrics_summary = pd.DataFrame({\n",
    "    'Model': ['Linear Regression', 'RandomForestRegressor', 'GradientBoostingRegressor'],\n",
    "    'MSE': [mse_lr, mse_rf, mse_gb],\n",
    "    'RMSE': [rmse_lr, rmse_rf, rmse_gb],\n",
    "    'R-squared': [r2_lr, r2_rf, r2_gb]\n",
    "})\n",
    "\n",
    "print(\"\\n--- Model Comparison ---\")\n",
    "metrics_summary"
   ]
  },
  {
   "cell_type": "markdown",
   "id": "1ec7b6a3",
   "metadata": {},
   "source": [
    "## 7. Code Comments and Structure\n",
    "- Comments have been added to explain the model experimentation steps.\n",
    "- Results for each model are clearly printed.\n",
    "- **Note**: Hyperparameter tuning would be a logical next step for improving these models, especially RandomForest and GradientBoosting, but is outside the scope of this specific subtask."
   ]
  },
  {
   "cell_type": "markdown",
   "id": "11289661",
   "metadata": {},
   "source": [
    "## Summary of Model Evaluation and Experiments\n",
    "1. **Baseline (Linear Regression)**: Metrics (MSE, RMSE, R2) established.\n",
    "2. **RandomForestRegressor**: Implemented and evaluated. Typically provides better performance than linear regression on such datasets due to its ability to capture non-linearities.\n",
    "3. **GradientBoostingRegressor**: Implemented and evaluated. Often one of the best performing off-the-shelf models.\n",
    "4. **Comparison**: A summary DataFrame shows the performance metrics for all experimented models, allowing for easy comparison."
   ]
  },
  {
   "cell_type": "markdown",
   "id": "d4062212",
   "metadata": {},
   "source": [
    "## Summary of Findings and Recommendations\n",
    "\n",
    "### Initial State of the Code\n",
    "The original notebook (as inferred from the initial state before EDA and preprocessing tasks) likely involved a more basic approach to model training. This might have included:\n",
    "- Direct OneHotEncoding of all categorical features, including the high-cardinality `name` column, which would lead to a very wide feature matrix.\n",
    "- No specific handling for the skewed nature of `selling_price`, `km_driven`, or `car_age`.\n",
    "- Lack of numerical scaling.\n",
    "- Predictions might have been directly converted to integers without appropriate inverse transformation from a log scale, potentially leading to high Mean Squared Error (MSE).\n",
    "\n",
    "### Key EDA Insights\n",
    "- **Data Skewness**: `selling_price` (target), `km_driven`, and the engineered `car_age` feature all exhibited right skewness. Log transformation was identified as a suitable technique to make their distributions more symmetrical, which is often beneficial for linear models and some tree-based models.\n",
    "- **High-Cardinality Feature**: The `name` column had a very large number of unique values, making direct OneHotEncoding impractical.\n",
    "- **Missing Values**: The dataset was clean with no missing values.\n",
    "\n",
    "### Preprocessing Enhancements Implemented\n",
    "To address the insights from EDA and improve model performance, the following preprocessing steps were implemented:\n",
    "1.  **Log Transformation**: Applied `np.log1p` to the target variable `selling_price` for model training. Skewed numerical features (`km_driven`, `car_age`) were also log-transformed within the `ColumnTransformer` pipeline.\n",
    "2.  **Brand Extraction**: The `brand` was extracted from the `name` feature (taking the first word), significantly reducing cardinality.\n",
    "3.  **Ordinal Encoding**: The `owner` feature was treated as ordinal and encoded using `OrdinalEncoder` with a defined order reflecting value (e.g., 'Test Drive Car' as highest).\n",
    "4.  **Nominal Encoding**: Other categorical features (`brand`, `fuel`, `seller_type`, `transmission`) were OneHotEncoded, with `drop='first'` to avoid multicollinearity.\n",
    "5.  **Numerical Scaling**: `StandardScaler` was applied to the (log-transformed) numerical features (`km_driven_log`, `car_age_log`) to standardize their range.\n",
    "6.  **Streamlined Workflow**: `ColumnTransformer` and `Pipeline` were used to create a robust and reproducible preprocessing and modeling workflow.\n",
    "\n",
    "### Model Performance Comparison\n",
    "The following models were trained and evaluated using MSE, RMSE, and R-squared on the original scale of `selling_price`:\n"
   ]
  },
  {
   "cell_type": "code",
   "execution_count": 11,
   "id": "5dcc9000",
   "metadata": {
    "execution": {
     "iopub.execute_input": "2025-05-31T13:35:56.419128Z",
     "iopub.status.busy": "2025-05-31T13:35:56.418796Z",
     "iopub.status.idle": "2025-05-31T13:35:56.429781Z",
     "shell.execute_reply": "2025-05-31T13:35:56.428853Z"
    }
   },
   "outputs": [
    {
     "name": "stdout",
     "output_type": "stream",
     "text": [
      "--- Model Comparison ---\n"
     ]
    },
    {
     "data": {
      "text/html": [
       "<div>\n",
       "<style scoped>\n",
       "    .dataframe tbody tr th:only-of-type {\n",
       "        vertical-align: middle;\n",
       "    }\n",
       "\n",
       "    .dataframe tbody tr th {\n",
       "        vertical-align: top;\n",
       "    }\n",
       "\n",
       "    .dataframe thead th {\n",
       "        text-align: right;\n",
       "    }\n",
       "</style>\n",
       "<table border=\"1\" class=\"dataframe\">\n",
       "  <thead>\n",
       "    <tr style=\"text-align: right;\">\n",
       "      <th></th>\n",
       "      <th>Model</th>\n",
       "      <th>MSE</th>\n",
       "      <th>RMSE</th>\n",
       "      <th>R-squared</th>\n",
       "    </tr>\n",
       "  </thead>\n",
       "  <tbody>\n",
       "    <tr>\n",
       "      <th>0</th>\n",
       "      <td>Linear Regression</td>\n",
       "      <td>1.200444e+11</td>\n",
       "      <td>346474.231170</td>\n",
       "      <td>0.606631</td>\n",
       "    </tr>\n",
       "    <tr>\n",
       "      <th>1</th>\n",
       "      <td>RandomForestRegressor</td>\n",
       "      <td>8.805148e+10</td>\n",
       "      <td>296734.688014</td>\n",
       "      <td>0.711468</td>\n",
       "    </tr>\n",
       "    <tr>\n",
       "      <th>2</th>\n",
       "      <td>GradientBoostingRegressor</td>\n",
       "      <td>1.082473e+11</td>\n",
       "      <td>329009.642253</td>\n",
       "      <td>0.645289</td>\n",
       "    </tr>\n",
       "  </tbody>\n",
       "</table>\n",
       "</div>"
      ],
      "text/plain": [
       "                       Model           MSE           RMSE  R-squared\n",
       "0          Linear Regression  1.200444e+11  346474.231170   0.606631\n",
       "1      RandomForestRegressor  8.805148e+10  296734.688014   0.711468\n",
       "2  GradientBoostingRegressor  1.082473e+11  329009.642253   0.645289"
      ]
     },
     "execution_count": 11,
     "metadata": {},
     "output_type": "execute_result"
    }
   ],
   "source": [
    "# This cell is for displaying the metrics_summary DataFrame again for the summary section\n",
    "print(\"--- Model Comparison ---\")\n",
    "metrics_summary"
   ]
  },
  {
   "cell_type": "markdown",
   "id": "ebeba26d",
   "metadata": {},
   "source": [
    "- The **RandomForestRegressor** showed the best performance, achieving the lowest RMSE and the highest R-squared value. This indicates it was able to capture the underlying patterns in the data more effectively than Linear Regression and the default Gradient Boosting Regressor. \n",
    "- For instance, compared to the improved Linear Regression (RMSE: ~346k, R2: ~0.61), Random Forest (RMSE: ~297k, R2: ~0.71) provided a significant improvement.\n",
    "\n",
    "### Identified Problems in Original Code (and how they were addressed)\n",
    "1.  **Data Skewness**: The original approach likely did not handle skewed data. This was addressed by applying log transformations to `selling_price`, `km_driven`, and `car_age`.\n",
    "2.  **High-Cardinality Categorical Features**: Direct OneHotEncoding of `name` would create excessive features. Addressed by extracting `brand` and using that instead, which is a more manageable categorical feature.\n",
    "3.  **Numerical Scaling**: Original numerical features were likely used without scaling. Addressed by using `StandardScaler` within the pipeline for log-transformed numericals.\n",
    "4.  **Prediction Output and Evaluation**: If the original model trained on a log-transformed target, predictions needed `np.expm1` before evaluation against the original scale. Premature casting to `int` could also lose precision. This was addressed by correctly inverse-transforming predictions and evaluating MSE/RMSE on the original `selling_price` scale.\n",
    "\n",
    "### Recommendations & Next Steps\n",
    "1.  **Preferred Model**: Based on the experiments, **RandomForestRegressor** is the recommended model due to its superior performance on this dataset with the current feature set.\n",
    "2.  **Hyperparameter Tuning**: For the RandomForestRegressor (and GradientBoostingRegressor if further exploration is desired), conduct hyperparameter tuning (e.g., using `GridSearchCV` or `RandomizedSearchCV`). Key parameters to tune for Random Forest include `n_estimators`, `max_depth`, `min_samples_split`, `min_samples_leaf`, and `max_features`.\n",
    "3.  **Advanced Feature Engineering**:\n",
    "    *   **Name Feature**: Explore more sophisticated methods to extract information from `name` beyond just the brand (e.g., model, sub-model, or using TF-IDF for less common car names if a larger dataset were available).\n",
    "    *   **Interaction Terms**: Investigate creating interaction terms between features (e.g., `brand` and `car_age`).\n",
    "    *   **Binning**: Consider binning numerical features like `km_driven` or `car_age` if non-linear relationships are suspected that trees might not fully capture without very deep growth.\n",
    "4.  **Outlier Handling**: While EDA identified outliers, no specific treatment was applied beyond log transformations. Investigate the impact of outliers on the chosen model and consider techniques like capping or using robust scalers if performance is adversely affected.\n",
    "5.  **Explore Other Models**: If further significant improvements are needed after hyperparameter tuning, consider other models like XGBoost, LightGBM, or CatBoost, which often perform very well on tabular data.\n",
    "6.  **Residual Analysis**: For the chosen model, perform a residual analysis to check for patterns, ensure homoscedasticity, and identify areas where the model might be underperforming."
   ]
  }
 ],
 "metadata": {
  "kernelspec": {
   "display_name": "Python 3",
   "language": "python",
   "name": "python3"
  },
  "language_info": {
   "codemirror_mode": {
    "name": "ipython",
    "version": 3
   },
   "file_extension": ".py",
   "mimetype": "text/x-python",
   "name": "python",
   "nbconvert_exporter": "python",
   "pygments_lexer": "ipython3",
   "version": "3.10.17"
  }
 },
 "nbformat": 4,
 "nbformat_minor": 5
}
